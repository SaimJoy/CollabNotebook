{
  "cells": [
    {
      "cell_type": "markdown",
      "metadata": {
        "id": "view-in-github",
        "colab_type": "text"
      },
      "source": [
        "<a href=\"https://colab.research.google.com/github/SaimJoy/learn-pyhton/blob/master/Practice.ipynb\" target=\"_parent\"><img src=\"https://colab.research.google.com/assets/colab-badge.svg\" alt=\"Open In Colab\"/></a>"
      ]
    },
    {
      "cell_type": "code",
      "execution_count": null,
      "metadata": {
        "colab": {
          "background_save": true,
          "base_uri": "https://localhost:8080/"
        },
        "id": "__tiSnIaktc0",
        "outputId": "e99f9832-358f-4f69-cd1e-0f7fbd264742"
      },
      "outputs": [
        {
          "name": "stdout",
          "output_type": "stream",
          "text": [
            "5\n"
          ]
        }
      ],
      "source": [
        "def function():\n",
        " x = 2\n",
        " y = 3\n",
        " z = x + y\n",
        "print (z)\n",
        "function()"
      ]
    },
    {
      "cell_type": "markdown",
      "metadata": {
        "id": "xG4H4ifDmpBq"
      },
      "source": [
        ""
      ]
    },
    {
      "cell_type": "code",
      "source": [
        "def function():\n",
        " y = int(input(\"Enter username:\"))\n",
        "#y = int(y)\n",
        " x = int(input(\"Enter username:\"))\n",
        "#x = int(x)\n",
        " z = x + y\n",
        "\n",
        " #print(x)\n",
        " #print(y)\n",
        " print  (\"sum of a and b :\" , z)\n",
        "function()\n",
        "\n"
      ],
      "metadata": {
        "colab": {
          "base_uri": "https://localhost:8080/"
        },
        "id": "BjPfzD_SB3oU",
        "outputId": "47f53cfa-566e-4307-9c49-121b4b0b4d14"
      },
      "execution_count": null,
      "outputs": [
        {
          "output_type": "stream",
          "name": "stdout",
          "text": [
            "Enter username:8\n",
            "Enter username:9\n",
            "sum of a and b : 17\n"
          ]
        }
      ]
    },
    {
      "cell_type": "code",
      "execution_count": null,
      "metadata": {
        "id": "NpkZjKp_RVQ7",
        "colab": {
          "base_uri": "https://localhost:8080/"
        },
        "outputId": "8408433e-3201-4762-a1c9-6ad2a840d498"
      },
      "outputs": [
        {
          "output_type": "stream",
          "name": "stdout",
          "text": [
            "enter first number: 3\n",
            "3.0\n",
            "enter 2nd number: 3\n",
            "3.0\n"
          ]
        }
      ],
      "source": [
        "def cal():\n",
        "  num1 = float(input(\"enter first number: \"))\n",
        "  print (num1)\n",
        "  num2 = float(input(\"enter 2nd number: \"))\n",
        "  print (num2)\n",
        "  op1 = num1 + num2\n",
        "  op2 = num1 * num2\n",
        "  \n",
        "  print (\"choice of op\", )\n",
        "cal()"
      ]
    },
    {
      "cell_type": "code",
      "execution_count": null,
      "metadata": {
        "id": "VsdxQMHimpZ0",
        "colab": {
          "base_uri": "https://localhost:8080/"
        },
        "outputId": "d8f896b1-f873-4ed3-958c-3f7c4ed0321b"
      },
      "outputs": [
        {
          "output_type": "stream",
          "name": "stdout",
          "text": [
            "enter value of PI: 3.1416\n",
            "enter ratio: 4\n",
            "area of circle:  50.2656\n"
          ]
        }
      ],
      "source": [
        "name = input('What is your name? ')\n",
        "\n",
        "print(f'Your name is {name}')def area_of_circle():\n",
        "  pi = float(input(\"enter value of PI: \"))\n",
        "  r =  int(input(\"enter ratio: \"))\n",
        "  ac = pi*r*r\n",
        "  print (\"area of circle: \", ac)\n",
        "area_of_circle()"
      ]
    },
    {
      "cell_type": "code",
      "source": [
        "def perimeter_of_circle():\n",
        "  r = float(input(\"enter radius vlaue: \"))\n",
        "  pi= float(input(\"enter pi value: \"))\n",
        "  cp= 2*r*pi\n",
        "  print(\"perimeter of circle: \" , cp)\n",
        "perimeter_of_circle()"
      ],
      "metadata": {
        "id": "aNUEBHMXPGtE",
        "colab": {
          "base_uri": "https://localhost:8080/"
        },
        "outputId": "ca25a69e-8044-44b0-97f2-464580d20610"
      },
      "execution_count": null,
      "outputs": [
        {
          "output_type": "stream",
          "name": "stdout",
          "text": [
            "enter radius vlaue: 5\n",
            "enter pi value: 3.14\n",
            "perimeter of circle:  31.400000000000002\n"
          ]
        }
      ]
    },
    {
      "cell_type": "code",
      "execution_count": null,
      "metadata": {
        "colab": {
          "base_uri": "https://localhost:8080/"
        },
        "outputId": "7a99751d-fc9e-4aa2-ba89-05d9a19a126e",
        "id": "85th89I9PHND"
      },
      "outputs": [
        {
          "output_type": "stream",
          "name": "stdout",
          "text": [
            "enter value of len: 8\n",
            "enter width: 6\n",
            "perimeter:  28.0\n"
          ]
        }
      ],
      "source": [
        "def perimeter_of_rectangle():\n",
        "  l = float(input(\"enter value of len: \"))\n",
        "  w =  int(input(\"enter width: \"))\n",
        "  pr= (2*(l+w))\n",
        "  print (\"perimeter: \", pr)\n",
        "perimeter_of_rectangle()"
      ]
    },
    {
      "cell_type": "code",
      "source": [
        ""
      ],
      "metadata": {
        "id": "iNZXvZTVPGud",
        "colab": {
          "base_uri": "https://localhost:8080/"
        },
        "outputId": "30d6f7cf-9008-4282-ee1e-e81de020e4d9"
      },
      "execution_count": null,
      "outputs": [
        {
          "output_type": "stream",
          "name": "stdout",
          "text": [
            "What is your name? j\n",
            "Your name is j\n"
          ]
        }
      ]
    },
    {
      "cell_type": "code",
      "source": [
        "#calculator\n",
        "def calculator():\n",
        "  a=float(input(\"enter the first num: \"))\n",
        "  b=float(input(\"enter the second num: \"))\n",
        "  op=input(\"enter the desired opeation (sum/sub/mul/div): \")\n",
        "  s= a+b\n",
        "  su= a-b\n",
        "  m= a*b\n",
        "  d= a/b\n",
        "  if op =='sum ':\n",
        "     print(f\"{s}\")\n",
        "  elif op == 'sub':\n",
        "     print(f\"{su}\")\n",
        "  elif op == 'mul':\n",
        "     print(f\"{m}\")\n",
        "  elif op == 'div':\n",
        "     print(f'{d}')\n",
        "calculator()"
      ],
      "metadata": {
        "id": "mGgkE5cNbkhp"
      },
      "execution_count": null,
      "outputs": []
    },
    {
      "cell_type": "code",
      "source": [
        ""
      ],
      "metadata": {
        "id": "1autU96MgVuQ"
      },
      "execution_count": null,
      "outputs": []
    },
    {
      "cell_type": "code",
      "source": [
        "#calculator-CUSTOM\n",
        "def calculator():\n",
        "  a=float(input(\"enter the first num: \"))\n",
        "  b=float(input(\"enter the second num: \"))\n",
        "  op=input(\"enter the desired opeation (sum/sub/mul/div): \")\n",
        "  s= a+b\n",
        "  su= a-b\n",
        "  m= a*b\n",
        "  d= a/b\n",
        "  if op =='sum ':\n",
        "     print(\"Summation of the Numbers: \", s)\n",
        "  elif op == 'sub':\n",
        "     print(\"Subtarction of the Numbers: \",su)\n",
        "  elif op == 'mul':\n",
        "     print(\" Multiplication of the Numbers:\", m)\n",
        "  elif op == 'div':\n",
        "     print(\"Division of the Numbers: \", d)\n",
        "  else:\n",
        "     print(\"Invalid Opea\")\n",
        "calculator()"
      ],
      "metadata": {
        "id": "hdS2NWWAgbxl",
        "colab": {
          "base_uri": "https://localhost:8080/"
        },
        "outputId": "ec056ada-029e-4787-fdf8-02db2ed33a58"
      },
      "execution_count": null,
      "outputs": [
        {
          "output_type": "stream",
          "name": "stdout",
          "text": [
            "enter the first num: 5\n",
            "enter the second num: 7\n",
            "enter the desired opeation (sum/sub/mul/div): dib\n",
            "Invalid\n"
          ]
        }
      ]
    },
    {
      "cell_type": "code",
      "source": [
        "# Date & time\n",
        "import datetime \n",
        "n=datetime.datetime.now()\n",
        "print(\"current Date & Time: \")\n",
        "print(n.strftime(\"%d-%m-%Y %H:%M:%S\"))"
      ],
      "metadata": {
        "colab": {
          "base_uri": "https://localhost:8080/"
        },
        "id": "aJWk-s8FSuSf",
        "outputId": "b0c4c6d4-a1ee-4723-8724-1f1092f26947"
      },
      "execution_count": null,
      "outputs": [
        {
          "output_type": "stream",
          "name": "stdout",
          "text": [
            "current Date & Time: \n",
            "10-05-2022 10:09:24\n"
          ]
        }
      ]
    },
    {
      "cell_type": "code",
      "source": [
        "#User Input Reverse using slicing\n",
        "def myname():\n",
        " n=str(input(\"enter name: \"))[::-1]\n",
        " print (\"\", n)\n",
        "myname()\n"
      ],
      "metadata": {
        "id": "X9dvjqZIYzVH"
      },
      "execution_count": null,
      "outputs": []
    },
    {
      "cell_type": "code",
      "source": [
        "#name reverse\n",
        "def namereverse():\n",
        "  n=str(input(\"enter First name: \"))\n",
        "  n2=str(input(\"enter last name: \"))\n",
        "  print(n2,\"\", n)\n",
        "namereverse()"
      ],
      "metadata": {
        "colab": {
          "base_uri": "https://localhost:8080/"
        },
        "id": "EMtZ-fv4bC_H",
        "outputId": "02bcdb09-40aa-4af7-e4d4-568c86775948"
      },
      "execution_count": null,
      "outputs": [
        {
          "output_type": "stream",
          "name": "stdout",
          "text": [
            "enter First name: joy\n",
            "enter last name: saim\n",
            "saim  joy\n"
          ]
        }
      ]
    },
    {
      "cell_type": "code",
      "source": [
        "#user input to List & Tuple\n",
        "num=(input(\"enter num: \"))\n",
        "list=num.split(\",\")\n",
        "tuple= tuple(list)\n",
        "print(\"\",list)\n",
        "print(tuple)"
      ],
      "metadata": {
        "id": "ov1DexnbmMrj"
      },
      "execution_count": null,
      "outputs": []
    },
    {
      "cell_type": "code",
      "source": [
        "name=str(input(\"enter you name: \"))\n",
        "namer=\"\"\n",
        "for x in name:\n",
        "  namer=x+namer\n",
        "print(\"\",namer)\n"
      ],
      "metadata": {
        "colab": {
          "base_uri": "https://localhost:8080/"
        },
        "id": "Vbr2tkVX5yEL",
        "outputId": "4981e21f-ecee-4e22-8b52-1fe00616d4de"
      },
      "execution_count": null,
      "outputs": [
        {
          "output_type": "stream",
          "name": "stdout",
          "text": [
            "enter you name: sadia hagol\n",
            " logah aidas\n"
          ]
        }
      ]
    },
    {
      "cell_type": "code",
      "source": [
        "st = \"Hello\"\n",
        "string1= \"\"\n",
        "for x in st:\n",
        "  string1=x+string1\n",
        "print(string1)"
      ],
      "metadata": {
        "colab": {
          "base_uri": "https://localhost:8080/"
        },
        "id": "Typ2uGv67ZEp",
        "outputId": "5eea6796-61d0-4697-daca-5021fb03fb3f"
      },
      "execution_count": null,
      "outputs": [
        {
          "output_type": "stream",
          "name": "stdout",
          "text": [
            "olleH\n"
          ]
        }
      ]
    },
    {
      "cell_type": "code",
      "source": [
        "# Python program to find H.C.F of two numbers\n",
        "def compute_hcf(x, y):\n",
        "\n",
        "# choose the smaller number\n",
        "    if x > y:\n",
        "        smaller = y\n",
        "    else:\n",
        "        smaller = x\n",
        "    for i in range(1, smaller+1):\n",
        "        if((x%  i == 0) and (y% i == 0)):\n",
        "            hcf = i \n",
        "    return hcf\n",
        "\n",
        "num1 = int(input(\"enter first num: \"))\n",
        "num2 = int(input(\"enter sec num: \"))\n",
        "\n",
        "print(\"The H.C.F. is\", compute_hcf(num1, num2))"
      ],
      "metadata": {
        "colab": {
          "base_uri": "https://localhost:8080/"
        },
        "id": "8Z6I8yyU7M-3",
        "outputId": "c97ab44c-693e-41fe-a5e9-a546ac1576c2"
      },
      "execution_count": null,
      "outputs": [
        {
          "output_type": "stream",
          "name": "stdout",
          "text": [
            "enter first num: 45\n",
            "enter sec num: 49\n",
            "The H.C.F. is 1\n"
          ]
        }
      ]
    },
    {
      "cell_type": "code",
      "source": [
        " #Python Program to find the L.C.M. of two input number\n",
        "\n",
        "def compute_lcm(x, y):\n",
        "\n",
        "   # choose the greater number\n",
        "   if x > y:\n",
        "       greater = x\n",
        "   else:\n",
        "       greater = y\n",
        "\n",
        "   while(True):\n",
        "       if((greater % x == 0) and (greater % y == 0)):\n",
        "           lcm = greater\n",
        "           break\n",
        "       greater += 1\n",
        "\n",
        "   return lcm\n",
        "\n",
        "num1 = int(input(\"enter num1: \"))\n",
        "num2 = int(input(\"enter num2: \"))\n",
        "\n",
        "print(\"The L.C.M. is\", compute_lcm(num1, num2))"
      ],
      "metadata": {
        "colab": {
          "base_uri": "https://localhost:8080/"
        },
        "id": "KSh3U3Nc8B5B",
        "outputId": "10be3f7b-dacb-418f-c837-f090f165dea8"
      },
      "execution_count": null,
      "outputs": [
        {
          "output_type": "stream",
          "name": "stdout",
          "text": [
            "enter num1: 34\n",
            "enter num2: 45\n",
            "The L.C.M. is 1530\n"
          ]
        }
      ]
    },
    {
      "cell_type": "code",
      "source": [
        "fruits = str(input(\"name of frt: \"))\n",
        "for x in fruits:\n",
        "  print(x) \n",
        "  if x == \"banana\":\n",
        "    break\n"
      ],
      "metadata": {
        "colab": {
          "base_uri": "https://localhost:8080/"
        },
        "id": "WZ_8rddU4Lif",
        "outputId": "d0635925-8e63-4704-b743-36a1bc750936"
      },
      "execution_count": null,
      "outputs": [
        {
          "output_type": "stream",
          "name": "stdout",
          "text": [
            "name of frt: mango, banana,cherry\n",
            "m\n",
            "a\n",
            "n\n",
            "g\n",
            "o\n",
            ",\n",
            " \n",
            "b\n",
            "a\n",
            "n\n",
            "a\n",
            "n\n",
            "a\n",
            ",\n",
            "c\n",
            "h\n",
            "e\n",
            "r\n",
            "r\n",
            "y\n"
          ]
        }
      ]
    }
  ],
  "metadata": {
    "colab": {
      "name": "Practice.ipynb",
      "provenance": [],
      "collapsed_sections": [],
      "authorship_tag": "ABX9TyMZegg/FlLNoenR1WQ7cls4",
      "include_colab_link": true
    },
    "kernelspec": {
      "display_name": "Python 3",
      "name": "python3"
    },
    "language_info": {
      "name": "python"
    }
  },
  "nbformat": 4,
  "nbformat_minor": 0
}